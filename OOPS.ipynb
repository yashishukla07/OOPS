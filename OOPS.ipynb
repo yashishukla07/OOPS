{
  "nbformat": 4,
  "nbformat_minor": 0,
  "metadata": {
    "colab": {
      "provenance": []
    },
    "kernelspec": {
      "name": "python3",
      "display_name": "Python 3"
    },
    "language_info": {
      "name": "python"
    }
  },
  "cells": [
    {
      "cell_type": "code",
      "execution_count": null,
      "metadata": {
        "id": "fuqNLkgLWp4O"
      },
      "outputs": [],
      "source": []
    },
    {
      "cell_type": "markdown",
      "source": [
        "1. What is Object-Oriented Programming (OOP)?\n",
        "   - Object-Oriented Programming is a programming paradigm that organizes software design around objects, which are instances of classes, that contain data and actions. It uses concepts like inheritance, encapsulation, polymorphism, and abstraction to create reusable and maintainable code.\n",
        "\n",
        "2. What is a class in OOP?\n",
        "   - In Object-Oriented Programming (OOP), a class is a blueprint or template for creating objects, defining their attributes and methods. Think of it as a recipe for creating specific instances of a thing, like a car, where the class \"Car\" defines the general structure and behavior, and individual cars are objects created from that class.\n",
        "\n",
        "3. What is an object in OOP?\n",
        "  - In Object-Oriented Programming (OOP), an object is a fundamental unit that combines data with the actions or behaviors that can be performed on that data. It's essentially an instance of a class, a blueprint that defines the structure and behavior of objects of that type.\n",
        "\n",
        "4. What is the difference between abstraction and encapsulation?\n",
        "  - Abstraction focuses on simplifying complexity by hiding implementation details and exposing only essential functionality, while encapsulation bundles data and methods within a class, restricting direct access to the internal state and enabling controlled access through methods.\n",
        "\n",
        "5. What are dunder methods in Python?\n",
        "  - Dunder methods in Python, also known as magic or special methods, are predefined methods with double underscores ( __ ) at the beginning and end of their names. They allow you to customize the behavior of your objects and make them interact seamlessly with Python's built-in operators and functionalities.\n",
        "  Ex:- __init__: Used for initializing objects.\n",
        "\n",
        "6. Explain the concept of inheritance in OOP?\n",
        "  - In Python, inheritance is a fundamental concept of object-oriented programming where a new class inherits attributes and methods from an existing class. This mechanism promotes code reusability and creates a hierarchy of classes, where child classes can extend or modify the functionality of their parent classes.\n",
        "\n",
        "7. What is polymorphism in OOP?\n",
        "  - In Object-Oriented Programming (OOP), polymorphism means \"many forms.\" It's the ability of a variable, function, or object to take on different forms, essentially allowing one interface to represent multiple types of objects. This is achieved through techniques like method overriding and method overloading.\n",
        "\n",
        "8.  How is encapsulation achieved in Python?\n",
        "  - In Python, encapsulation, a core object-oriented programming concept, is achieved by bundling data and methods that operate on that data within a class, and then controlling access to these attributes and methods using access modifiers (public, protected, and private).\n",
        "\n",
        "9.  What is a constructor in Python?\n",
        "  - In Python, a constructor is a special method, typically named __init__, that's automatically called when a new object of a class is created. It's used to initialize the attributes of that object with specific values.\n",
        "\n",
        "10. What are class and static methods in Python?\n",
        "  - In Python, class methods are bound to the class itself and are typically called on the class, not on an instance of the class. Static methods, on the other hand, are not bound to either the class or an instance of the class, and they can be called on the class or an instance.\n",
        "\n",
        "11. What is method overloading in Python?\n",
        "   - Method overloading, in essence, allows defining multiple methods within a class that share the same name but have different parameter lists or signatures. Python, however, doesn't directly support conventional method overloading like some other languages. Instead, it achieves the same effect through flexible argument handling techniques like default arguments, variable-length arguments (*args, **kwargs), and conditional logic within the function. This approach provides versatility and reduces code duplication, allowing developers to handle various input scenarios with a single function.\n",
        "\n",
        "12. What is method overriding in OOP?\n",
        "   - In Object-Oriented Programming (OOP), method overriding is a mechanism where a subclass provides its own specific implementation for a method that is already defined in its superclass. This allows subclasses to customize the behavior of inherited methods while maintaining the same method signature as the superclass.\n",
        "\n",
        "13.  What is a property decorator in Python?\n",
        "   - Python programming provides us with a built-in @property decorator which makes usage of getters and setters much easier in Object-Oriented Programming.\n",
        "\n",
        "14. Why is polymorphism important in OOP?\n",
        "  - Polymorphism is crucial in OOP because it allows you to treat objects of different classes as objects of a common type, enabling code reuse, flexibility, and extensibility. This means you can write code that works with multiple types of objects using a single interface, simplifying development and maintenance.\n",
        "\n",
        "15. What is an abstract class in Python?\n",
        "  - An abstract class is a blueprint for other classes that cannot be instantiated directly. It's designed to be subclassed, and it may contain abstract methods (methods with declarations but no implementations) that must be implemented in any concrete class that inherits from it.\n",
        "\n",
        "16. What are the advantages of OOP?\n",
        "  - Object-Oriented Programming (OOP) in Python offers several advantages, including improved code organization, reusability, and maintainability. It promotes a modular approach, making code easier to understand, debug, and extend. OOP also enhances code security and flexibility through features like encapsulation and polymorphism.\n",
        "\n",
        "17. What is the difference between a class variable and an instance variable?\n",
        "  - The key difference between a class variable and an instance variable is their scope and how they are shared among instances of a class. A class variable is shared by all instances of the class, while an instance variable is unique to each instance.\n",
        "  \n",
        "  Example:\n",
        "  In a Person class, you might have a class variable numPeople to track the total number of Person objects created.\n",
        "\n",
        "  In a Dog class, an instance variable name would store the name of a specific dog, and each dog would have its own name.\n",
        "\n",
        "18. What is multiple inheritance in Python?\n",
        "  - In Python, multiple inheritance allows a class to inherit attributes and methods from multiple parent classes. This means a child class can inherit properties from more than one base class, combining their functionalities.\n",
        "\n",
        "19. Explain the purpose of ‘’__str__’ and ‘__repr__’ ‘ methods in Python?\n",
        "  - __str__ provides a user-friendly, informal string representation of an object, suitable for display to end-users, while __repr__ offers a more formal and developer-focused representation, useful for debugging and object introspection.\n",
        "  \n",
        "  Example:\n",
        "  A __str__ method might return a neatly formatted string, like \"Name: John, Age: 30\", suitable for displaying information to users.\n",
        "\n",
        "  A __repr__ method might return a string that can be used to recreate the object, like \"Person(name='John', age=30)\", making it useful for debugging or inspecting object state.\n",
        "\n",
        "20. What is the significance of the ‘super()’ function in Python?\n",
        "  - The super() function in Python is crucial for implementing inheritance and facilitating code reuse within class hierarchies. It enables a subclass to access and invoke methods of its parent class, allowing for both extending and overriding inherited behavior. By using super(), you avoid having to explicitly name the parent class, making your code more flexible and maintainable.\n",
        "\n",
        "21. What is the significance of the __del__ method in Python?\n",
        "  - the __del__() method is a destructor that's automatically called by the garbage collector when an object's reference count reaches zero, signaling that the object is about to be destroyed. It's primarily used for cleaning up resources or performing final actions before an object is deallocated, though its reliability can be affected by the garbage collector's timing.\n",
        "\n",
        "22.  What is the difference between @staticmethod and @classmethod in Python?\n",
        "  -  @staticmethod and @classmethod are decorators used to define methods within a class. The key difference lies in how they interact with the class and its instances. @classmethod binds the method to the class, receiving the class itself as its first argument (usually called cls), while @staticmethod treats the method like a regular function within the class scope, with no implicit arguments.\n",
        "\n",
        "23. How does polymorphism work in Python with inheritance?\n",
        "  - Polymorphism with inheritance works through method overriding, where child classes can redefine methods inherited from parent classes, allowing the same method name to have different implementations based on the object type.\n",
        "   \n",
        "  Example:\n",
        "   \n",
        "   A Vehicle class has a move() method.\n",
        "   A Car class inherits from Vehicle and overrides move() to handle car-specific movement.\n",
        "\n",
        "24. What is method chaining in Python OOP?\n",
        "  - Method chaining in Python allows you to call multiple methods on the same object in a single line of code, improving readability and conciseness. It's achieved by having methods return the object itself, allowing subsequent method calls to be chained using the dot notation.\n",
        "\n",
        "25.  What is the purpose of the __call__ method in Python?\n",
        "  - The purpose of the __call__ method in Python is to make instances of a class callable, allowing them to be invoked like functions. When you define a __call__ method within a class, you enable instances of that class to be called using parentheses, as if they were functions.\n",
        "   \n",
        "   Example:\n",
        "    \n",
        "    class MyClass:\n",
        "            def __call__(self, arg1, arg2):\n",
        "                print(f\"Called with: {arg1}, {arg2}\")\n",
        "\n",
        "        my_instance = MyClass()\n",
        "        my_instance(\"Hello\", 123)\n",
        "      \n",
        "26.  Create a parent class Animal with a method speak() that prints a generic\n",
        "     message. Create a child class Dog that overrides the speak() method to print \"Bark!\".\n",
        "\n",
        "     \n",
        "\n"
      ],
      "metadata": {
        "id": "AVbHdzyQahBl"
      }
    },
    {
      "cell_type": "code",
      "source": [
        "class Animal:\n",
        "  def speak(self):\n",
        "    print(\"some generic animal sound\")\n",
        "\n",
        "class Dog(Animal):\n",
        "  def speak(self):\n",
        "    print(\"Bark!\")\n",
        "\n",
        "animal = Animal()\n",
        "animal.speak()\n",
        "\n",
        "dog = Dog()\n",
        "dog.speak()"
      ],
      "metadata": {
        "colab": {
          "base_uri": "https://localhost:8080/"
        },
        "id": "ZWLw1tY-tsAs",
        "outputId": "e805f498-4cc7-4c27-d928-11eb394d72e2"
      },
      "execution_count": 1,
      "outputs": [
        {
          "output_type": "stream",
          "name": "stdout",
          "text": [
            "some generic animal sound\n",
            "Bark!\n"
          ]
        }
      ]
    },
    {
      "cell_type": "markdown",
      "source": [
        "27. Write a program to create an abstract class Shape with a method area(). Derive classes Circle and Rectangle\n",
        "from it and implement the area() method in both.\n",
        "\n"
      ],
      "metadata": {
        "id": "uDIDAUHzYUoN"
      }
    },
    {
      "cell_type": "code",
      "source": [
        " from abc import ABC, abstractmethod\n",
        "\n",
        " class Shape(ABC):\n",
        "    @abstractmethod\n",
        "    def area(self):\n",
        "        pass\n",
        "\n",
        " class Circle(Shape):\n",
        "    def __init__(self, radius):\n",
        "      self.radius = radius\n",
        "\n",
        "    def area(self):\n",
        "        return 3.14 * self.radius * self.radius\n",
        "\n",
        " class Rectangle(Shape):\n",
        "    def __init__(self, length, width):\n",
        "        self.length = length\n",
        "        self.width = width\n",
        "\n",
        "    def area(self):\n",
        "        return self.length * self.width\n",
        "\n",
        "\n",
        "circle = Circle(5)\n",
        "print(circle.area())\n",
        "\n",
        "rectangle = Rectangle(4, 6)\n",
        "print(rectangle.area())"
      ],
      "metadata": {
        "colab": {
          "base_uri": "https://localhost:8080/"
        },
        "id": "yT4QewAlQIb9",
        "outputId": "6d0328b6-caf5-4342-d9b5-f4b38409d331"
      },
      "execution_count": 16,
      "outputs": [
        {
          "output_type": "stream",
          "name": "stdout",
          "text": [
            "78.5\n",
            "24\n"
          ]
        }
      ]
    },
    {
      "cell_type": "markdown",
      "source": [
        "28.  Implement a multi-level inheritance scenario where a class Vehicle has an attribute type. Derive a class Car\n",
        "and further derive a class ElectricCar that adds a battery attribute."
      ],
      "metadata": {
        "id": "yObNctWrRmD9"
      }
    },
    {
      "cell_type": "code",
      "source": [
        "class Vehicle:\n",
        "  def __init__(self, type):\n",
        "    self.type = type\n",
        "\n",
        "class Car(Vehicle):\n",
        "  def __init__(self, type, brand):\n",
        "    super().__init__(type)\n",
        "    self.brand = brand\n",
        "\n",
        "  def get_brand(self):\n",
        "      return self.brand\n",
        "\n",
        "class ElectricCar(Car):\n",
        "  def __init__(self, type, brand, battery):\n",
        "    super().__init__(type, brand)\n",
        "    self.battery = battery\n",
        "\n",
        "  def get_battery(self):\n",
        "    return self.battery\n",
        "\n",
        "vehicle = Vehicle(\"Car\")\n",
        "print(vehicle.type)\n"
      ],
      "metadata": {
        "colab": {
          "base_uri": "https://localhost:8080/"
        },
        "id": "f8xflRrNRrFx",
        "outputId": "ba4b1d8b-74a7-4056-c34e-ebe4c9031e32"
      },
      "execution_count": 4,
      "outputs": [
        {
          "output_type": "stream",
          "name": "stdout",
          "text": [
            "Car\n"
          ]
        }
      ]
    },
    {
      "cell_type": "markdown",
      "source": [
        "29.  Demonstrate polymorphism by creating a base class Bird with a method fly(). Create two derived classes\n",
        "Sparrow and Penguin that override the fly() method.\n"
      ],
      "metadata": {
        "id": "1FCnPF_2Y3GG"
      }
    },
    {
      "cell_type": "code",
      "source": [
        "class Bird:\n",
        "  def fly(self):\n",
        "      return \"Birds can generally fly.\"\n",
        "\n",
        "class Sparrow(Bird):\n",
        "  def fly(self):\n",
        "      return \"Sparrows can fly in the sky.\"\n",
        "\n",
        "class Penguin(Bird):\n",
        "  def fly(self):\n",
        "      return \"Penguins cannot fly, but they can swim.\"\n",
        "\n",
        "sparrow = Sparrow()\n",
        "penguin = Penguin()\n",
        "\n",
        "print(sparrow.fly())\n",
        "print(penguin.fly())"
      ],
      "metadata": {
        "colab": {
          "base_uri": "https://localhost:8080/"
        },
        "id": "JAP4m7O6ZF53",
        "outputId": "d76f4a29-bed3-4756-9fea-d51748abea4d"
      },
      "execution_count": 17,
      "outputs": [
        {
          "output_type": "stream",
          "name": "stdout",
          "text": [
            "Sparrows can fly in the sky.\n",
            "Penguins cannot fly, but they can swim.\n"
          ]
        }
      ]
    },
    {
      "cell_type": "markdown",
      "source": [
        "30.  Write a program to demonstrate encapsulation by creating a class BankAccount with private attributes\n",
        "balance and methods to deposit, withdraw, and check balance."
      ],
      "metadata": {
        "id": "ejwAOO4kar4F"
      }
    },
    {
      "cell_type": "code",
      "source": [
        "class BankAccount:\n",
        "   def __init__(self, initial_balance=0):\n",
        "      self.__balance = initial_balance\n",
        "\n",
        "   def deposit(self, amount):\n",
        "       if amount > 0:\n",
        "          self.__balance += amount\n",
        "          print(f\"Deposited: ${amount:.2f}\")\n",
        "       else:\n",
        "          print(\"Invalid deposit amount.\")\n",
        "\n",
        "   def withdraw(self, amount):\n",
        "       if 0 < amount <= self.__balance:\n",
        "          self.__balance -= amount\n",
        "          print(f\"Withdrawn: ${amount:.2f}\")\n",
        "       elif amount > self.__balance:\n",
        "            print(\"Insufficient funds.\")\n",
        "       else:\n",
        "            print(\"Invalid withdrawal amount.\")\n",
        "\n",
        "   def get_balance(self):\n",
        "       return self.__balance\n",
        "\n",
        "account = BankAccount(1000)\n",
        "account.deposit(500)\n",
        "account.withdraw(200)\n",
        "print(f\"Current balance: ${account.get_balance():.2f}\")"
      ],
      "metadata": {
        "colab": {
          "base_uri": "https://localhost:8080/"
        },
        "id": "pqjuqqfVa5JQ",
        "outputId": "fabef8fc-4b14-47f4-e1dd-d02729230f7c"
      },
      "execution_count": 18,
      "outputs": [
        {
          "output_type": "stream",
          "name": "stdout",
          "text": [
            "Deposited: $500.00\n",
            "Withdrawn: $200.00\n",
            "Current balance: $1300.00\n"
          ]
        }
      ]
    },
    {
      "cell_type": "markdown",
      "source": [],
      "metadata": {
        "id": "d1ECW12bPsmQ"
      }
    }
  ]
}